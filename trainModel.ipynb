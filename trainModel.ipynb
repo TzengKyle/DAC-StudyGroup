{
 "cells": [
  {
   "cell_type": "code",
   "execution_count": 150,
   "metadata": {},
   "outputs": [],
   "source": [
    "import pandas as pd\n",
    "import torch\n",
    "import numpy as np\n",
    "import matplotlib.pyplot as plt"
   ]
  },
  {
   "cell_type": "code",
   "execution_count": 151,
   "metadata": {},
   "outputs": [],
   "source": [
    "# 調字體\n",
    "from matplotlib.font_manager import FontProperties\n",
    "font = FontProperties(fname=r\"c:/windows/fonts/msjhl.ttc\", size=10)\n",
    "font_params = {\n",
    "    'font.family': 'Microsoft JhengHei',  # Use the correct font name for your system\n",
    "    'axes.unicode_minus': False,  # To handle minus sign display\n",
    "}\n",
    "plt.rcParams.update(font_params)"
   ]
  },
  {
   "cell_type": "code",
   "execution_count": 152,
   "metadata": {},
   "outputs": [],
   "source": [
    "from sklearn.preprocessing import MinMaxScaler"
   ]
  },
  {
   "cell_type": "code",
   "execution_count": 153,
   "metadata": {},
   "outputs": [],
   "source": [
    "# 看有沒有gpu可以幫忙加速，否則用gpu(cuda)\n",
    "device = torch.device(\"cuda\" if torch.cuda.is_available() else \"cpu\")"
   ]
  },
  {
   "cell_type": "code",
   "execution_count": 154,
   "metadata": {},
   "outputs": [],
   "source": [
    "# 設定要抓取的檔案\n",
    "STOCK_CODE = 2330\n",
    "START_YEAR = 2013\n",
    "END_YEAR = 2023\n",
    "\n",
    "filePath = f\"stock{STOCK_CODE}_{START_YEAR}to{END_YEAR}.csv\""
   ]
  },
  {
   "cell_type": "code",
   "execution_count": 155,
   "metadata": {},
   "outputs": [
    {
     "name": "stderr",
     "output_type": "stream",
     "text": [
      "c:\\forPythonEnv\\anaconda3\\envs\\pytorch_ver0\\lib\\site-packages\\pandas\\core\\indexing.py:494: SettingWithCopyWarning: \n",
      "A value is trying to be set on a copy of a slice from a DataFrame.\n",
      "Try using .loc[row_indexer,col_indexer] = value instead\n",
      "\n",
      "See the caveats in the documentation: http://pandas.pydata.org/pandas-docs/stable/user_guide/indexing.html#returning-a-view-versus-a-copy\n",
      "  self.obj[item] = s\n"
     ]
    }
   ],
   "source": [
    "# 載入檔案轉成Dataframe，並修改成我們要的形式\n",
    "df_raw = pd.read_csv(filePath, encoding = \"big5\")\n",
    "df = df_raw[[\"日期\", \"開盤價\", \"最高價\", \"最低價\", \"收盤價\", \"成交股數\"]]\n",
    "\n",
    "df.loc[:, '日期'] = pd.to_datetime(df.loc[:, '日期']) # 將 \"日期\" 列複製為日期時間對象\n",
    "\n",
    "df.set_index(\"日期\", inplace=True) # 將 \"日期\" 列設置為索引\n",
    "\n",
    "sel_col = [\"開盤價\", \"最高價\", \"最低價\", \"收盤價\"]   \n",
    "df = df[sel_col]\n",
    "\n",
    "scaler = MinMaxScaler(feature_range=(-1, 1))  # 把數據轉成-1~1之間\n",
    "for col in sel_col: # 这里不能进行统一进行缩放，因为fit_transform返回值是numpy类型\n",
    "    df[col] = scaler.fit_transform(df[col].values.reshape(-1,1))\n",
    "\n",
    "df['target'] = df['收盤價'].shift(-1)  \n",
    "\n",
    "df.dropna(inplace=True)     # 使用了shift函数，在最后必然是有缺失值的，这里去掉缺失值所在行\n",
    "df = df.astype(np.float32)  # 修改数据类型"
   ]
  },
  {
   "cell_type": "code",
   "execution_count": 156,
   "metadata": {},
   "outputs": [],
   "source": [
    "# 生成Model要輸入資料的形式(np.array)\n",
    "SEQUENCE = 30\n",
    "\n",
    "df_seq_feature = []\n",
    "df_seq_target = []\n",
    "\n",
    "for i in range(len(df) - SEQUENCE):\n",
    "    df_seq_feature.append(df[[\"開盤價\", \"最高價\", \"最低價\", \"收盤價\"]][i:i+SEQUENCE].values)\n",
    "    df_seq_target.append(df[[\"target\"]][i:i+SEQUENCE].values)\n",
    "\n",
    "df_seq_feature = np.array(df_seq_feature)\n",
    "df_seq_target = np.array(df_seq_target)"
   ]
  },
  {
   "cell_type": "code",
   "execution_count": null,
   "metadata": {},
   "outputs": [
    {
     "name": "stdout",
     "output_type": "stream",
     "text": [
      "torch.Size([1933, 30, 4]) torch.Size([484, 30, 4])\n",
      "torch.Size([1933, 30, 1]) torch.Size([484, 30, 1])\n"
     ]
    }
   ],
   "source": [
    "# 把上面的np.array轉成tensor，才能丟到pytorch的model裡面\n",
    "TRAIN_DATA_RATIO = 0.8\n",
    "CUT_BORDER = int(len(df_seq_feature) * TRAIN_DATA_RATIO)\n",
    "\n",
    "trainX = torch.Tensor(df_seq_feature[:CUT_BORDER]).to(device=device)\n",
    "trainY = torch.Tensor(df_seq_target[:CUT_BORDER]).to(device=device)\n",
    "\n",
    "testX = torch.Tensor(df_seq_feature[CUT_BORDER:]).to(device=device)\n",
    "testY = torch.Tensor(df_seq_target[CUT_BORDER:]).to(device=device)\n",
    "\n",
    "print(trainX.shape, testX.shape)\n",
    "print(trainY.shape, testY.shape)"
   ]
  },
  {
   "cell_type": "markdown",
   "metadata": {},
   "source": [
    "LSTM"
   ]
  },
  {
   "cell_type": "code",
   "execution_count": null,
   "metadata": {},
   "outputs": [],
   "source": [
    "import torch.nn as nn\n",
    "\n",
    "LSTM2_INPUT_DIM = len(sel_col)      # 數據的特徵數 (目前是INPUT_DIM=4)\n",
    "LSTM2_HIDDEN_DIM = 32               # 隱藏層的神經元數\n",
    "LSTM2_NUM_LAYERS = 2                # LSTM的層數\n",
    "LSTM2_OUTPUT_DIM = 1                # 預測值的特徵數 (就是target)\n",
    "\n",
    "LSTM3_INPUT_DIM = len(sel_col)      # 數據的特徵數 (目前是INPUT_DIM=4)\n",
    "LSTM3_HIDDEN_DIM = 32               # 隱藏層的神經元數\n",
    "LSTM3_NUM_LAYERS = 3                # LSTM的層數\n",
    "LSTM3_OUTPUT_DIM = 1                # 預測值的特徵數 (就是target)\n",
    "\n",
    "class LSTM(nn.Module):\n",
    "    def __init__(self, input_dim, hidden_dim, num_layers, output_dim):\n",
    "        super(LSTM, self).__init__()\n",
    "        # Hidden dimensions\n",
    "        self.hidden_dim = hidden_dim\n",
    "\n",
    "        # Number of hidden layers\n",
    "        self.num_layers = num_layers\n",
    "\n",
    "        # Building your LSTM\n",
    "        # batch_first=True causes input/output tensors to be of shape (batch_dim, seq_dim, feature_dim)\n",
    "        self.lstm = nn.LSTM(input_dim, hidden_dim, num_layers, batch_first=True)\n",
    "        \n",
    "\n",
    "        # Readout layer 在LSTM后再加一个全连接层，因为是回归问题，所以不能在线性层后加激活函数\n",
    "        self.fc = nn.Linear(hidden_dim, output_dim) \n",
    "\n",
    "        self.to(device=device)\n",
    "\n",
    "    def forward(self, x):\n",
    "        # Initialize hidden state with zeros   \n",
    "        h0 = torch.zeros(self.num_layers, x.size(0), self.hidden_dim).requires_grad_().to(device=device) \n",
    "        # 这里x.size(0)就是batch_size\n",
    "\n",
    "        # Initialize cell state\n",
    "        c0 = torch.zeros(self.num_layers, x.size(0), self.hidden_dim).requires_grad_().to(device=device)\n",
    "\n",
    "        # One time step\n",
    "        # We need to detach as we are doing truncated backpropagation through time (BPTT)\n",
    "        # If we don't, we'll backprop all the way to the start even after going through another batch\n",
    "        out, (hn, cn) = self.lstm(x, (h0.detach(), c0.detach()))\n",
    "\n",
    "        out = self.fc(out) \n",
    "\n",
    "        return out"
   ]
  },
  {
   "cell_type": "code",
   "execution_count": null,
   "metadata": {},
   "outputs": [],
   "source": [
    "# 以後會用到的模型在前面定義好以後，在這裡build然後放到List裡面\n",
    "LSTM2 = LSTM(input_dim=LSTM2_INPUT_DIM, hidden_dim=LSTM2_HIDDEN_DIM, num_layers=LSTM2_NUM_LAYERS, output_dim=LSTM2_OUTPUT_DIM)\n",
    "LSTM3 = LSTM(input_dim=LSTM3_INPUT_DIM, hidden_dim=LSTM3_HIDDEN_DIM, num_layers=LSTM3_NUM_LAYERS, output_dim=LSTM3_OUTPUT_DIM)\n",
    "MODEL_LIST = {\"LSTM2\": LSTM2, \"LSTM3\": LSTM3}"
   ]
  },
  {
   "cell_type": "code",
   "execution_count": null,
   "metadata": {},
   "outputs": [],
   "source": [
    "# 決定這次要用哪個MODEL\n",
    "CURRENT_MODEL = \"LSTM2\"\n",
    "model = MODEL_LIST[CURRENT_MODEL]\n",
    "\n",
    "# 下面的code可以把model結構印出來看一下\n",
    "# print(model)\n",
    "# for i in range(len(list(model.parameters()))):\n",
    "#     print(list(model.parameters())[i].size())"
   ]
  },
  {
   "cell_type": "code",
   "execution_count": null,
   "metadata": {},
   "outputs": [],
   "source": [
    "# 定義優化器和損失函數\n",
    "optimiser = torch.optim.Adam(model.parameters(), lr=0.01) # 使用Adam優化\n",
    "loss_fn = torch.nn.MSELoss(reduction='mean')             # 使用MSE作為損失函數"
   ]
  },
  {
   "cell_type": "code",
   "execution_count": null,
   "metadata": {},
   "outputs": [
    {
     "name": "stdout",
     "output_type": "stream",
     "text": [
      "Epoch  10 MSE:  0.04158954322338104\n",
      "Epoch  20 MSE:  0.022585825994610786\n",
      "Epoch  30 MSE:  0.009850624017417431\n",
      "Epoch  40 MSE:  0.005252765957266092\n",
      "Epoch  50 MSE:  0.0037883270997554064\n",
      "Epoch  60 MSE:  0.0029942095279693604\n",
      "Epoch  70 MSE:  0.0023553234059363604\n",
      "Epoch  80 MSE:  0.0018886837642639875\n",
      "Epoch  90 MSE:  0.0015387620078399777\n",
      "Final MSE(loss): 0.0012661587679758668\n"
     ]
    }
   ],
   "source": [
    "#正式訓練模型\n",
    "NUM_EPOCHS = 100\n",
    "\n",
    "loss_list = []\n",
    "hist = np.zeros(NUM_EPOCHS)\n",
    "for t in range(NUM_EPOCHS):\n",
    "    # Initialise hidden state\n",
    "    # Don't do this if you want your LSTM to be stateful\n",
    "    # model.hidden = model.init_hidden()\n",
    "    \n",
    "    y_train_pred = model(trainX) # Forward pass\n",
    "\n",
    "    loss = loss_fn(y_train_pred, trainY) # 算這次的Loss\n",
    "    loss_list.append(loss_fn(y_train_pred, trainY).item()) # 記載list裡面方便以後印出來\n",
    "    \n",
    "    if t % 10 == 0 and t !=0:                  # 每訓練十次印一下結果\n",
    "        print(\"Epoch \", t, \"MSE: \", loss.item())\n",
    "    hist[t] = loss.item()\n",
    "\n",
    "    optimiser.zero_grad() # Zero out gradient, else they will accumulate between epochs 將梯度歸零\n",
    "\n",
    "    loss.backward() # Backward pass\n",
    "    \n",
    "    optimiser.step() # Update parameters\n",
    "y_train_pred = model(trainX)\n",
    "print(f'Final MSE(loss): {loss_fn(y_train_pred, trainY).item()}')"
   ]
  },
  {
   "cell_type": "code",
   "execution_count": null,
   "metadata": {},
   "outputs": [
    {
     "data": {
      "image/png": "[encoded data removed]",
      "text/plain": [
       "<Figure size 432x288 with 1 Axes>"
      ]
     },
     "metadata": {
      "needs_background": "light"
     },
     "output_type": "display_data"
    }
   ],
   "source": [
    "plt.plot(loss_list)\n",
    "plt.xlabel('Epochs') # 設定 x 軸標籤\n",
    "plt.ylabel('Loss') # 設定 y 軸標籤\n",
    "plt.title(f'Stock Code: {STOCK_CODE}\\nFrom {START_YEAR} to {END_YEAR}\\n Using {CURRENT_MODEL} model\\n Loss Over Each Epochs')\n",
    "plt.show()"
   ]
  },
  {
   "cell_type": "code",
   "execution_count": null,
   "metadata": {},
   "outputs": [
    {
     "data": {
      "text/plain": [
       "0.005871924106031656"
      ]
     },
     "execution_count": 137,
     "metadata": {},
     "output_type": "execute_result"
    }
   ],
   "source": [
    "# make predictions\n",
    "y_test_pred = model(testX)\n",
    "loss_fn(y_test_pred, testY).item()"
   ]
  },
  {
   "cell_type": "code",
   "execution_count": null,
   "metadata": {},
   "outputs": [
    {
     "data": {
      "image/png": "[encoded data removed]",
      "text/plain": [
       "<Figure size 432x288 with 1 Axes>"
      ]
     },
     "metadata": {
      "needs_background": "light"
     },
     "output_type": "display_data"
    }
   ],
   "source": [
    "# 訓練集效果圖\n",
    "pred_value = y_train_pred.detach().cpu().numpy()[:,-1,0]\n",
    "true_value = trainY.detach().cpu().numpy()[:,-1,0]\n",
    "pred_value = scaler.inverse_transform(pred_value.reshape(-1, 1)) # 記得還原成原本尺度\n",
    "true_value = scaler.inverse_transform(true_value.reshape(-1, 1)) # 記得還原成原本尺度\n",
    "\n",
    "plt.title(f'Stock Code: {STOCK_CODE}\\nFrom {START_YEAR} to {END_YEAR}\\n Using {CURRENT_MODEL} model\\n Training Effect')\n",
    "plt.plot(pred_value, label=\"Preds\")    # 预测值\n",
    "plt.plot(true_value, label=\"Data\")    # 真实值\n",
    "plt.legend()\n",
    "plt.show()"
   ]
  },
  {
   "cell_type": "code",
   "execution_count": null,
   "metadata": {},
   "outputs": [
    {
     "data": {
      "image/png": "[encoded data removed]",
      "text/plain": [
       "<Figure size 432x288 with 1 Axes>"
      ]
     },
     "metadata": {
      "needs_background": "light"
     },
     "output_type": "display_data"
    }
   ],
   "source": [
    "# 測試效果圖\n",
    "pred_value = y_test_pred.detach().cpu().numpy()[:,-1,0]    \n",
    "true_value = testY.detach().cpu().numpy()[:,-1,0]\n",
    "\n",
    "pred_value = scaler.inverse_transform(pred_value.reshape(-1, 1))\n",
    "true_value = scaler.inverse_transform(true_value.reshape(-1, 1))\n",
    "\n",
    "plt.title(f'Stock Code: {STOCK_CODE}\\nFrom {START_YEAR} to {END_YEAR}\\n Using {CURRENT_MODEL} model\\n Validation Effect')\n",
    "plt.plot(pred_value, label=\"Preds\")    # 预测值\n",
    "plt.plot(true_value, label=\"Data\")    # 真实值\n",
    "plt.legend()\n",
    "plt.show()"
   ]
  }
 ],
 "metadata": {
  "kernelspec": {
   "display_name": "pytorch_ver0",
   "language": "python",
   "name": "python3"
  },
  "language_info": {
   "codemirror_mode": {
    "name": "ipython",
    "version": 3
   },
   "file_extension": ".py",
   "mimetype": "text/x-python",
   "name": "python",
   "nbconvert_exporter": "python",
   "pygments_lexer": "ipython3",
   "version": "3.6.13"
  }
 },
 "nbformat": 4,
 "nbformat_minor": 2
}
