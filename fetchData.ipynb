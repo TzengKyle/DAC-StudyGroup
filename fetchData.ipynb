{
 "cells": [
  {
   "cell_type": "code",
   "execution_count": 3,
   "metadata": {},
   "outputs": [],
   "source": [
    "import twstock\n",
    "import csv\n",
    "import os"
   ]
  },
  {
   "cell_type": "code",
   "execution_count": 4,
   "metadata": {},
   "outputs": [],
   "source": [
    "# 台積電: 2330 宏達電: 2498\n",
    "STOCK_CODE = 2498\n",
    "START_YEAR = 2013\n",
    "END_YEAR = 2023\n",
    "\n",
    "filePath = f\"stock{STOCK_CODE}_{START_YEAR}to{END_YEAR}.csv\"\n",
    "if not os.path.isfile(filePath):\n",
    "    # 建Column的Title\n",
    "    title = [\"日期\", \"成交股數\", \"成交金額\", \"開盤價\", \"最高價\", \"最低價\", \"收盤價\", \"漲跌價差\", \"成交筆數\"]\n",
    "    data = []\n",
    "\n",
    "    for year in range(START_YEAR, END_YEAR+1):\n",
    "        for month in range(1, 12):\n",
    "            # get the stock through the stock's code\n",
    "            stock = twstock.Stock(str(STOCK_CODE))\n",
    "            stocklist = stock.fetch(year, month)\n",
    "\n",
    "            for stock in stocklist:\n",
    "                # convert datetime object into string\n",
    "                strdate = stock.date.strftime(\"%Y-%m-%d\")\n",
    "                li = [strdate, stock.capacity, stock.turnover, stock.open, stock.high, stock.low, stock.close, stock.change, stock.transaction]\n",
    "                data.append(li)\n",
    "\n",
    "    # create the csv file\n",
    "    outputfile = open(filePath, \"w\", newline = \"\", encoding = \"big5\")\n",
    "    outputwriter = csv.writer(outputfile)\n",
    "\n",
    "    # output file\n",
    "    outputwriter.writerow(title)\n",
    "    for dataline in (data):\n",
    "        outputwriter.writerow(dataline)\n",
    "    outputfile.close()"
   ]
  }
 ],
 "metadata": {
  "kernelspec": {
   "display_name": "pytorch_ver0",
   "language": "python",
   "name": "python3"
  },
  "language_info": {
   "codemirror_mode": {
    "name": "ipython",
    "version": 3
   },
   "file_extension": ".py",
   "mimetype": "text/x-python",
   "name": "python",
   "nbconvert_exporter": "python",
   "pygments_lexer": "ipython3",
   "version": "3.6.13"
  }
 },
 "nbformat": 4,
 "nbformat_minor": 2
}
